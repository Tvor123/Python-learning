{
 "cells": [
  {
   "cell_type": "code",
   "execution_count": null,
   "id": "b3a90990-e5e4-40b2-9253-9f1280e1039e",
   "metadata": {},
   "outputs": [],
   "source": [
    "#1 oski power\n",
    "def computePower(x,y):\n",
    "    m = x\n",
    "    if y == 0:\n",
    "        return 1\n",
    "    for p in range(y - 1):\n",
    "        x *= m\n",
    "    return x\n",
    "num1 = 2\n",
    "num2 = 4\n",
    "print(computePower(num1, num2))"
   ]
  },
  {
   "cell_type": "code",
   "execution_count": 17,
   "id": "b1f191b4-0bd3-492b-9937-ed01bfd87641",
   "metadata": {},
   "outputs": [
    {
     "name": "stdout",
     "output_type": "stream",
     "text": [
      "(12, 50)\n"
     ]
    }
   ],
   "source": [
    "#2 what to wear\n",
    "def tempurtureRange(lis):\n",
    "    return (min(lis), max(lis))\n",
    "list = [20, 15, 26, 12, 29, 50]\n",
    "print(tempurtureRange(list))"
   ]
  },
  {
   "cell_type": "code",
   "execution_count": 1,
   "id": "cf947b80-cdbf-4204-9589-ab411158ff30",
   "metadata": {},
   "outputs": [
    {
     "name": "stdout",
     "output_type": "stream",
     "text": [
      "False\n",
      "True\n",
      "out of range\n"
     ]
    }
   ],
   "source": [
    "#3\n",
    "def is_weekend(day):\n",
    "    if day == 6 or day == 7:\n",
    "        return True\n",
    "    else:\n",
    "        if day > 7 or day < 0:\n",
    "            return \"out of range\"\n",
    "        else: return False\n",
    "day1 = 1\n",
    "day2 = 7\n",
    "day3 = 20\n",
    "print(is_weekend(day1))\n",
    "print(is_weekend(day2))\n",
    "print(is_weekend(day3))\n",
    "    "
   ]
  },
  {
   "cell_type": "code",
   "execution_count": 6,
   "id": "b702e802-031b-47eb-b2ab-7742f067120c",
   "metadata": {},
   "outputs": [
    {
     "name": "stdout",
     "output_type": "stream",
     "text": [
      "0.5\n"
     ]
    }
   ],
   "source": [
    "#4\n",
    "def fuel_efficeincy(dist, fuel):\n",
    "    return dist/fuel\n",
    "print(fuel_efficeincy(10,20))"
   ]
  },
  {
   "cell_type": "code",
   "execution_count": 11,
   "id": "2394813e-e4e6-40a7-bdd1-5a3e49538d26",
   "metadata": {},
   "outputs": [
    {
     "name": "stdout",
     "output_type": "stream",
     "text": [
      "7123488\n"
     ]
    }
   ],
   "source": [
    "#5\n",
    "def decode(x):\n",
    "    digit = 0\n",
    "    test = 0\n",
    "    copy = x\n",
    "    while copy != 0:\n",
    "        copy = copy // 10\n",
    "        digit += 1\n",
    "    ones = x % 10\n",
    "    allbutones = x//10\n",
    "    return (ones * (10**(digit - 1))) + allbutones\n",
    "num = 1234887\n",
    "print(decode(num))"
   ]
  },
  {
   "cell_type": "code",
   "execution_count": 5,
   "id": "91206e20-0319-4d7b-bcb9-eed7436600aa",
   "metadata": {},
   "outputs": [
    {
     "name": "stdout",
     "output_type": "stream",
     "text": [
      "(12, 50)\n",
      "(12, 50)\n"
     ]
    }
   ],
   "source": [
    "#6 \n",
    "def min_max_for(lis):\n",
    "    #(\n",
    "    max = lis[0]\n",
    "    min = lis[0]\n",
    "    for x in range(len(lis)):\n",
    "        if lis[x] > max:\n",
    "            max = lis[x]\n",
    "    for x in range(len(lis)):\n",
    "        if lis[x] < min:\n",
    "            min = lis[x]\n",
    "    return (min, max)\n",
    "    \n",
    "def min_max_while(lis):\n",
    "    max = lis[0]\n",
    "    min = lis[0]\n",
    "    x = 0\n",
    "    while x < len(lis):\n",
    "        if lis[x] > max:\n",
    "            max = lis[x]\n",
    "        x += 1\n",
    "    y = 0\n",
    "    while y < len(lis):\n",
    "        if lis[y] < min:\n",
    "            min = lis[y]\n",
    "        y += 1\n",
    "    return (min, max)\n",
    "    \n",
    "list = [20, 15, 26, 12, 29, 50]\n",
    "print(min_max_while(list))\n",
    "print(min_max_for(list))"
   ]
  },
  {
   "cell_type": "code",
   "execution_count": 45,
   "id": "a1d7c7ca-050c-4a8d-94ed-cf3681695a0a",
   "metadata": {},
   "outputs": [
    {
     "name": "stdout",
     "output_type": "stream",
     "text": [
      "(5, 9)\n",
      "detected a non-letter character\n"
     ]
    }
   ],
   "source": [
    "#7\n",
    "def vowel_const(text):\n",
    "    length = len(text)\n",
    "    copy = text.lower()\n",
    "    vowel = 0\n",
    "    const = 0\n",
    "    for x in range(length):\n",
    "        if (copy[x].isalpha()) == False and (copy[x] != ' '):\n",
    "            return 'detected a non-letter character'\n",
    "        if (copy[x] == 'a' or copy[x] == 'e' or copy[x] == 'i' or copy[x] == 'o' or copy[x] == 'u'):\n",
    "            vowel += 1\n",
    "        else: \n",
    "            if (copy[x] != ' '):\n",
    "                const += 1\n",
    "    return(vowel, const)\n",
    "str = 'My name is Trevor'\n",
    "str2 = 'I am 17 years old.'\n",
    "print(vowel_const(str))\n",
    "print(vowel_const(str2))"
   ]
  },
  {
   "cell_type": "code",
   "execution_count": 1,
   "id": "f8fcfec5-8e88-4a09-acf8-558371acb4f4",
   "metadata": {},
   "outputs": [
    {
     "name": "stdout",
     "output_type": "stream",
     "text": [
      "14\n",
      "20\n"
     ]
    }
   ],
   "source": [
    "#8\n",
    "def digital_root(x):\n",
    "    copy = str(x)\n",
    "    length = len(copy)\n",
    "    tot = 0\n",
    "    for x in range(length):\n",
    "        tot += int(copy[x])\n",
    "    return tot\n",
    "num = 5162\n",
    "num2 = 12359\n",
    "print(digital_root(num))\n",
    "print(digital_root(num2))"
   ]
  }
 ],
 "metadata": {
  "kernelspec": {
   "display_name": "Python 3 (ipykernel)",
   "language": "python",
   "name": "python3"
  },
  "language_info": {
   "codemirror_mode": {
    "name": "ipython",
    "version": 3
   },
   "file_extension": ".py",
   "mimetype": "text/x-python",
   "name": "python",
   "nbconvert_exporter": "python",
   "pygments_lexer": "ipython3",
   "version": "3.12.4"
  }
 },
 "nbformat": 4,
 "nbformat_minor": 5
}
